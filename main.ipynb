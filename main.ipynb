{
 "cells": [
  {
   "cell_type": "code",
   "execution_count": 1,
   "metadata": {},
   "outputs": [],
   "source": [
    "import pandas as pd\n",
    "from sklearn.feature_extraction.text import TfidfVectorizer\n",
    "from sklearn.model_selection import train_test_split\n",
    "from sklearn.linear_model import LogisticRegression\n",
    "from sklearn.pipeline import Pipeline\n",
    "from sklearn.multiclass import OneVsRestClassifier"
   ]
  },
  {
   "cell_type": "code",
   "execution_count": 2,
   "metadata": {},
   "outputs": [
    {
     "data": {
      "text/plain": [
       "0         English\n",
       "1         English\n",
       "2         English\n",
       "3         English\n",
       "4         English\n",
       "           ...   \n",
       "179997    Spanish\n",
       "179998    Spanish\n",
       "179999    Spanish\n",
       "180000     Arabic\n",
       "180001       Urdu\n",
       "Name: Language, Length: 180002, dtype: object"
      ]
     },
     "execution_count": 2,
     "metadata": {},
     "output_type": "execute_result"
    }
   ],
   "source": [
    "data1 = pd.read_csv(r\"C:\\Users\\Asus\\OneDrive\\Documents\\PE1\\Known Languages\\CopyKnownDataWLang.csv\")\n",
    "kd = data1['Language']\n",
    "kd"
   ]
  },
  {
   "cell_type": "code",
   "execution_count": 3,
   "metadata": {},
   "outputs": [
    {
     "data": {
      "text/plain": [
       "0         Arabic\n",
       "1         Arabic\n",
       "2         Arabic\n",
       "3         Arabic\n",
       "4         Arabic\n",
       "           ...  \n",
       "359995     Hindi\n",
       "359996     Hindi\n",
       "359997     Hindi\n",
       "359998     Hindi\n",
       "359999     Hindi\n",
       "Name: Language, Length: 360000, dtype: object"
      ]
     },
     "execution_count": 3,
     "metadata": {},
     "output_type": "execute_result"
    }
   ],
   "source": [
    "data2 = pd.read_csv(r\"C:\\Users\\Asus\\OneDrive\\Documents\\PE1\\Unknown Languages\\UnknownDataWithLang.csv\")\n",
    "ukd = data2['Language']\n",
    "ukd"
   ]
  },
  {
   "cell_type": "code",
   "execution_count": 4,
   "metadata": {},
   "outputs": [
    {
     "data": {
      "text/html": [
       "<div>\n",
       "<style scoped>\n",
       "    .dataframe tbody tr th:only-of-type {\n",
       "        vertical-align: middle;\n",
       "    }\n",
       "\n",
       "    .dataframe tbody tr th {\n",
       "        vertical-align: top;\n",
       "    }\n",
       "\n",
       "    .dataframe thead th {\n",
       "        text-align: right;\n",
       "    }\n",
       "</style>\n",
       "<table border=\"1\" class=\"dataframe\">\n",
       "  <thead>\n",
       "    <tr style=\"text-align: right;\">\n",
       "      <th></th>\n",
       "      <th>Unnamed: 0.3</th>\n",
       "      <th>Unnamed: 0.2</th>\n",
       "      <th>Unnamed: 0.1</th>\n",
       "      <th>Unnamed: 0</th>\n",
       "      <th>Text</th>\n",
       "      <th>Language</th>\n",
       "    </tr>\n",
       "  </thead>\n",
       "  <tbody>\n",
       "    <tr>\n",
       "      <th>0</th>\n",
       "      <td>0</td>\n",
       "      <td>0.0</td>\n",
       "      <td>0.0</td>\n",
       "      <td>0.0</td>\n",
       "      <td>â€œ2020 marked one of the most successful year...</td>\n",
       "      <td>English</td>\n",
       "    </tr>\n",
       "    <tr>\n",
       "      <th>1</th>\n",
       "      <td>1</td>\n",
       "      <td>1.0</td>\n",
       "      <td>1.0</td>\n",
       "      <td>1.0</td>\n",
       "      <td>\"27 cases were found in Toronto.\"</td>\n",
       "      <td>English</td>\n",
       "    </tr>\n",
       "    <tr>\n",
       "      <th>2</th>\n",
       "      <td>2</td>\n",
       "      <td>2.0</td>\n",
       "      <td>2.0</td>\n",
       "      <td>2.0</td>\n",
       "      <td>$36 million was spent on general &amp; administrat...</td>\n",
       "      <td>English</td>\n",
       "    </tr>\n",
       "    <tr>\n",
       "      <th>3</th>\n",
       "      <td>3</td>\n",
       "      <td>3.0</td>\n",
       "      <td>3.0</td>\n",
       "      <td>3.0</td>\n",
       "      <td>Â« 6 stories making headlines this weeâ€¦Updat...</td>\n",
       "      <td>English</td>\n",
       "    </tr>\n",
       "    <tr>\n",
       "      <th>4</th>\n",
       "      <td>4</td>\n",
       "      <td>4.0</td>\n",
       "      <td>4.0</td>\n",
       "      <td>4.0</td>\n",
       "      <td>A 10ft great white shark has attacked and kill...</td>\n",
       "      <td>English</td>\n",
       "    </tr>\n",
       "    <tr>\n",
       "      <th>...</th>\n",
       "      <td>...</td>\n",
       "      <td>...</td>\n",
       "      <td>...</td>\n",
       "      <td>...</td>\n",
       "      <td>...</td>\n",
       "      <td>...</td>\n",
       "    </tr>\n",
       "    <tr>\n",
       "      <th>480000</th>\n",
       "      <td>480000</td>\n",
       "      <td>480000.0</td>\n",
       "      <td>480000.0</td>\n",
       "      <td>480000.0</td>\n",
       "      <td>आपल्या आत्मविश्वासाने आपल्या स्वप्नांचे साकार ...</td>\n",
       "      <td>Marathi</td>\n",
       "    </tr>\n",
       "    <tr>\n",
       "      <th>480001</th>\n",
       "      <td>480001</td>\n",
       "      <td>480001.0</td>\n",
       "      <td>480001.0</td>\n",
       "      <td>NaN</td>\n",
       "      <td>இன்று மாலை வெள்ளியில் குளிர்காலத்தில் உடைந்து...</td>\n",
       "      <td>Tamil</td>\n",
       "    </tr>\n",
       "    <tr>\n",
       "      <th>480002</th>\n",
       "      <td>480002</td>\n",
       "      <td>480002.0</td>\n",
       "      <td>480002.0</td>\n",
       "      <td>NaN</td>\n",
       "      <td>இன்று மாலை வெள்ளியில் குளிர்காலத்தில் உடைந்து...</td>\n",
       "      <td>Tamil</td>\n",
       "    </tr>\n",
       "    <tr>\n",
       "      <th>480003</th>\n",
       "      <td>480003</td>\n",
       "      <td>480003.0</td>\n",
       "      <td>NaN</td>\n",
       "      <td>NaN</td>\n",
       "      <td>أنا أحب القراءة والكتابة والتعلم.</td>\n",
       "      <td>Arabic</td>\n",
       "    </tr>\n",
       "    <tr>\n",
       "      <th>480004</th>\n",
       "      <td>480004</td>\n",
       "      <td>NaN</td>\n",
       "      <td>NaN</td>\n",
       "      <td>NaN</td>\n",
       "      <td>میرے دل کی دھڑکنوں میں تمہارا نام ہے، تمہارے ب...</td>\n",
       "      <td>Urdu</td>\n",
       "    </tr>\n",
       "  </tbody>\n",
       "</table>\n",
       "<p>480005 rows × 6 columns</p>\n",
       "</div>"
      ],
      "text/plain": [
       "        Unnamed: 0.3  Unnamed: 0.2  Unnamed: 0.1  Unnamed: 0  \\\n",
       "0                  0           0.0           0.0         0.0   \n",
       "1                  1           1.0           1.0         1.0   \n",
       "2                  2           2.0           2.0         2.0   \n",
       "3                  3           3.0           3.0         3.0   \n",
       "4                  4           4.0           4.0         4.0   \n",
       "...              ...           ...           ...         ...   \n",
       "480000        480000      480000.0      480000.0    480000.0   \n",
       "480001        480001      480001.0      480001.0         NaN   \n",
       "480002        480002      480002.0      480002.0         NaN   \n",
       "480003        480003      480003.0           NaN         NaN   \n",
       "480004        480004           NaN           NaN         NaN   \n",
       "\n",
       "                                                     Text Language  \n",
       "0       â€œ2020 marked one of the most successful year...  English  \n",
       "1                       \"27 cases were found in Toronto.\"  English  \n",
       "2       $36 million was spent on general & administrat...  English  \n",
       "3       Â« 6 stories making headlines this weeâ€¦Updat...  English  \n",
       "4       A 10ft great white shark has attacked and kill...  English  \n",
       "...                                                   ...      ...  \n",
       "480000  आपल्या आत्मविश्वासाने आपल्या स्वप्नांचे साकार ...  Marathi  \n",
       "480001   இன்று மாலை வெள்ளியில் குளிர்காலத்தில் உடைந்து...    Tamil  \n",
       "480002   இன்று மாலை வெள்ளியில் குளிர்காலத்தில் உடைந்து...    Tamil  \n",
       "480003                  أنا أحب القراءة والكتابة والتعلم.   Arabic  \n",
       "480004  میرے دل کی دھڑکنوں میں تمہارا نام ہے، تمہارے ب...     Urdu  \n",
       "\n",
       "[480005 rows x 6 columns]"
      ]
     },
     "execution_count": 4,
     "metadata": {},
     "output_type": "execute_result"
    }
   ],
   "source": [
    "data = pd.read_csv(r\"C:\\Users\\Asus\\OneDrive\\Documents\\PE1\\CopyFullDataWithlang.csv\")\n",
    "data"
   ]
  },
  {
   "cell_type": "code",
   "execution_count": 5,
   "metadata": {},
   "outputs": [
    {
     "data": {
      "text/plain": [
       "0         English\n",
       "1         English\n",
       "2         English\n",
       "3         English\n",
       "4         English\n",
       "           ...   \n",
       "480000    Marathi\n",
       "480001      Tamil\n",
       "480002      Tamil\n",
       "480003     Arabic\n",
       "480004       Urdu\n",
       "Name: Language, Length: 480005, dtype: object"
      ]
     },
     "execution_count": 5,
     "metadata": {},
     "output_type": "execute_result"
    }
   ],
   "source": [
    "md = data['Language']\n",
    "md"
   ]
  },
  {
   "cell_type": "code",
   "execution_count": 6,
   "metadata": {},
   "outputs": [
    {
     "data": {
      "text/html": [
       "<style>#sk-container-id-1 {color: black;}#sk-container-id-1 pre{padding: 0;}#sk-container-id-1 div.sk-toggleable {background-color: white;}#sk-container-id-1 label.sk-toggleable__label {cursor: pointer;display: block;width: 100%;margin-bottom: 0;padding: 0.3em;box-sizing: border-box;text-align: center;}#sk-container-id-1 label.sk-toggleable__label-arrow:before {content: \"▸\";float: left;margin-right: 0.25em;color: #696969;}#sk-container-id-1 label.sk-toggleable__label-arrow:hover:before {color: black;}#sk-container-id-1 div.sk-estimator:hover label.sk-toggleable__label-arrow:before {color: black;}#sk-container-id-1 div.sk-toggleable__content {max-height: 0;max-width: 0;overflow: hidden;text-align: left;background-color: #f0f8ff;}#sk-container-id-1 div.sk-toggleable__content pre {margin: 0.2em;color: black;border-radius: 0.25em;background-color: #f0f8ff;}#sk-container-id-1 input.sk-toggleable__control:checked~div.sk-toggleable__content {max-height: 200px;max-width: 100%;overflow: auto;}#sk-container-id-1 input.sk-toggleable__control:checked~label.sk-toggleable__label-arrow:before {content: \"▾\";}#sk-container-id-1 div.sk-estimator input.sk-toggleable__control:checked~label.sk-toggleable__label {background-color: #d4ebff;}#sk-container-id-1 div.sk-label input.sk-toggleable__control:checked~label.sk-toggleable__label {background-color: #d4ebff;}#sk-container-id-1 input.sk-hidden--visually {border: 0;clip: rect(1px 1px 1px 1px);clip: rect(1px, 1px, 1px, 1px);height: 1px;margin: -1px;overflow: hidden;padding: 0;position: absolute;width: 1px;}#sk-container-id-1 div.sk-estimator {font-family: monospace;background-color: #f0f8ff;border: 1px dotted black;border-radius: 0.25em;box-sizing: border-box;margin-bottom: 0.5em;}#sk-container-id-1 div.sk-estimator:hover {background-color: #d4ebff;}#sk-container-id-1 div.sk-parallel-item::after {content: \"\";width: 100%;border-bottom: 1px solid gray;flex-grow: 1;}#sk-container-id-1 div.sk-label:hover label.sk-toggleable__label {background-color: #d4ebff;}#sk-container-id-1 div.sk-serial::before {content: \"\";position: absolute;border-left: 1px solid gray;box-sizing: border-box;top: 0;bottom: 0;left: 50%;z-index: 0;}#sk-container-id-1 div.sk-serial {display: flex;flex-direction: column;align-items: center;background-color: white;padding-right: 0.2em;padding-left: 0.2em;position: relative;}#sk-container-id-1 div.sk-item {position: relative;z-index: 1;}#sk-container-id-1 div.sk-parallel {display: flex;align-items: stretch;justify-content: center;background-color: white;position: relative;}#sk-container-id-1 div.sk-item::before, #sk-container-id-1 div.sk-parallel-item::before {content: \"\";position: absolute;border-left: 1px solid gray;box-sizing: border-box;top: 0;bottom: 0;left: 50%;z-index: -1;}#sk-container-id-1 div.sk-parallel-item {display: flex;flex-direction: column;z-index: 1;position: relative;background-color: white;}#sk-container-id-1 div.sk-parallel-item:first-child::after {align-self: flex-end;width: 50%;}#sk-container-id-1 div.sk-parallel-item:last-child::after {align-self: flex-start;width: 50%;}#sk-container-id-1 div.sk-parallel-item:only-child::after {width: 0;}#sk-container-id-1 div.sk-dashed-wrapped {border: 1px dashed gray;margin: 0 0.4em 0.5em 0.4em;box-sizing: border-box;padding-bottom: 0.4em;background-color: white;}#sk-container-id-1 div.sk-label label {font-family: monospace;font-weight: bold;display: inline-block;line-height: 1.2em;}#sk-container-id-1 div.sk-label-container {text-align: center;}#sk-container-id-1 div.sk-container {/* jupyter's `normalize.less` sets `[hidden] { display: none; }` but bootstrap.min.css set `[hidden] { display: none !important; }` so we also need the `!important` here to be able to override the default hidden behavior on the sphinx rendered scikit-learn.org. See: https://github.com/scikit-learn/scikit-learn/issues/21755 */display: inline-block !important;position: relative;}#sk-container-id-1 div.sk-text-repr-fallback {display: none;}</style><div id=\"sk-container-id-1\" class=\"sk-top-container\"><div class=\"sk-text-repr-fallback\"><pre>Pipeline(steps=[(&#x27;tfidf&#x27;, TfidfVectorizer()),\n",
       "                (&#x27;clf&#x27;,\n",
       "                 OneVsRestClassifier(estimator=LogisticRegression(solver=&#x27;liblinear&#x27;)))])</pre><b>In a Jupyter environment, please rerun this cell to show the HTML representation or trust the notebook. <br />On GitHub, the HTML representation is unable to render, please try loading this page with nbviewer.org.</b></div><div class=\"sk-container\" hidden><div class=\"sk-item sk-dashed-wrapped\"><div class=\"sk-label-container\"><div class=\"sk-label sk-toggleable\"><input class=\"sk-toggleable__control sk-hidden--visually\" id=\"sk-estimator-id-1\" type=\"checkbox\" ><label for=\"sk-estimator-id-1\" class=\"sk-toggleable__label sk-toggleable__label-arrow\">Pipeline</label><div class=\"sk-toggleable__content\"><pre>Pipeline(steps=[(&#x27;tfidf&#x27;, TfidfVectorizer()),\n",
       "                (&#x27;clf&#x27;,\n",
       "                 OneVsRestClassifier(estimator=LogisticRegression(solver=&#x27;liblinear&#x27;)))])</pre></div></div></div><div class=\"sk-serial\"><div class=\"sk-item\"><div class=\"sk-estimator sk-toggleable\"><input class=\"sk-toggleable__control sk-hidden--visually\" id=\"sk-estimator-id-2\" type=\"checkbox\" ><label for=\"sk-estimator-id-2\" class=\"sk-toggleable__label sk-toggleable__label-arrow\">TfidfVectorizer</label><div class=\"sk-toggleable__content\"><pre>TfidfVectorizer()</pre></div></div></div><div class=\"sk-item sk-dashed-wrapped\"><div class=\"sk-label-container\"><div class=\"sk-label sk-toggleable\"><input class=\"sk-toggleable__control sk-hidden--visually\" id=\"sk-estimator-id-3\" type=\"checkbox\" ><label for=\"sk-estimator-id-3\" class=\"sk-toggleable__label sk-toggleable__label-arrow\">clf: OneVsRestClassifier</label><div class=\"sk-toggleable__content\"><pre>OneVsRestClassifier(estimator=LogisticRegression(solver=&#x27;liblinear&#x27;))</pre></div></div></div><div class=\"sk-parallel\"><div class=\"sk-parallel-item\"><div class=\"sk-item\"><div class=\"sk-label-container\"><div class=\"sk-label sk-toggleable\"><input class=\"sk-toggleable__control sk-hidden--visually\" id=\"sk-estimator-id-4\" type=\"checkbox\" ><label for=\"sk-estimator-id-4\" class=\"sk-toggleable__label sk-toggleable__label-arrow\">estimator: LogisticRegression</label><div class=\"sk-toggleable__content\"><pre>LogisticRegression(solver=&#x27;liblinear&#x27;)</pre></div></div></div><div class=\"sk-serial\"><div class=\"sk-item\"><div class=\"sk-estimator sk-toggleable\"><input class=\"sk-toggleable__control sk-hidden--visually\" id=\"sk-estimator-id-5\" type=\"checkbox\" ><label for=\"sk-estimator-id-5\" class=\"sk-toggleable__label sk-toggleable__label-arrow\">LogisticRegression</label><div class=\"sk-toggleable__content\"><pre>LogisticRegression(solver=&#x27;liblinear&#x27;)</pre></div></div></div></div></div></div></div></div></div></div></div></div>"
      ],
      "text/plain": [
       "Pipeline(steps=[('tfidf', TfidfVectorizer()),\n",
       "                ('clf',\n",
       "                 OneVsRestClassifier(estimator=LogisticRegression(solver='liblinear')))])"
      ]
     },
     "execution_count": 6,
     "metadata": {},
     "output_type": "execute_result"
    }
   ],
   "source": [
    "vec = TfidfVectorizer()\n",
    "X = data['Text']\n",
    "y = data['Language']\n",
    "\n",
    "X_train, X_test, y_train, y_test = train_test_split(X, y, test_size=0.2, random_state=42)\n",
    "pipeline = Pipeline([\n",
    "    ('tfidf', TfidfVectorizer()),\n",
    "    ('clf', OneVsRestClassifier(LogisticRegression(solver='liblinear')))\n",
    "])\n",
    "\n",
    "\n",
    "pipeline.fit(X_train, y_train)\n"
   ]
  },
  {
   "cell_type": "code",
   "execution_count": 7,
   "metadata": {},
   "outputs": [
    {
     "name": "stdout",
     "output_type": "stream",
     "text": [
      "Cross-validation scores: [0.91408966 0.91425893 0.91343863 0.91152459 0.9128125 ]\n",
      "Mean cross-validation score: 0.9132248611671724\n"
     ]
    }
   ],
   "source": [
    "from sklearn.model_selection import cross_val_score\n",
    "cv_scores = cross_val_score(pipeline, X_train, y_train, cv=5)  \n",
    "\n",
    "print(\"Cross-validation scores:\", cv_scores)\n",
    "print(\"Mean cross-validation score:\", cv_scores.mean())"
   ]
  },
  {
   "cell_type": "code",
   "execution_count": 8,
   "metadata": {},
   "outputs": [],
   "source": [
    "import matplotlib.pyplot as plt\n",
    "from sklearn.metrics import f1_score,confusion_matrix,ConfusionMatrixDisplay"
   ]
  },
  {
   "cell_type": "code",
   "execution_count": 9,
   "metadata": {},
   "outputs": [
    {
     "name": "stdout",
     "output_type": "stream",
     "text": [
      "Model Accuracy: 0.9142092269872188\n"
     ]
    }
   ],
   "source": [
    "pipeline = Pipeline([\n",
    "    ('tfidf', TfidfVectorizer()),\n",
    "    ('clf', OneVsRestClassifier(LogisticRegression(solver='liblinear')))\n",
    "])\n",
    "\n",
    "\n",
    "pipeline.fit(X_train, y_train)\n",
    "\n",
    "accuracy = pipeline.score(X_test, y_test)\n",
    "print(\"Model Accuracy:\", accuracy)"
   ]
  },
  {
   "cell_type": "code",
   "execution_count": 10,
   "metadata": {},
   "outputs": [
    {
     "data": {
      "text/plain": [
       "0.9138702603583877"
      ]
     },
     "execution_count": 10,
     "metadata": {},
     "output_type": "execute_result"
    }
   ],
   "source": [
    "f1_score(pipeline.predict(X_test),y_test,average = \"macro\")"
   ]
  },
  {
   "cell_type": "code",
   "execution_count": 11,
   "metadata": {},
   "outputs": [
    {
     "data": {
      "text/plain": [
       "0.9142092269872188"
      ]
     },
     "execution_count": 11,
     "metadata": {},
     "output_type": "execute_result"
    }
   ],
   "source": [
    "f1_score(pipeline.predict(X_test),y_test,average = \"micro\")"
   ]
  },
  {
   "cell_type": "code",
   "execution_count": 12,
   "metadata": {},
   "outputs": [
    {
     "name": "stdout",
     "output_type": "stream",
     "text": [
      "Predicted Language Label: Indonesian\n",
      "Predicted Language Label: Indonesian\n"
     ]
    }
   ],
   "source": [
    "text_example = \"Привет, как дела\"\n",
    "predicted_language = pipeline.predict([text_example])[0]\n",
    "print(\"Predicted Language Label:\", predicted_language)\n",
    "\n",
    "predicted_language_probabilities = pipeline.predict_proba([text_example])[0]\n",
    "predicted_language_index = list(pipeline.classes_).index(predicted_language)\n",
    "predicted_language_label = pipeline.classes_[predicted_language_index]\n",
    "print(\"Predicted Language Label:\", predicted_language_label)"
   ]
  },
  {
   "cell_type": "code",
   "execution_count": 13,
   "metadata": {},
   "outputs": [
    {
     "name": "stdout",
     "output_type": "stream",
     "text": [
      "Predicted Language Label: Indonesian\n",
      "Predicted Language Label: Indonesian\n"
     ]
    }
   ],
   "source": [
    "text_example = \"தமிழ் மொழி அதிக பயன்படுத்தப்படும் மொழிகளில் ஒன்றாகும்.\"\n",
    "predicted_language = pipeline.predict([text_example])[0]\n",
    "print(\"Predicted Language Label:\", predicted_language)\n",
    "\n",
    "predicted_language_probabilities = pipeline.predict_proba([text_example])[0]\n",
    "predicted_language_index = list(pipeline.classes_).index(predicted_language)\n",
    "predicted_language_label = pipeline.classes_[predicted_language_index]\n",
    "print(\"Predicted Language Label:\", predicted_language_label)"
   ]
  },
  {
   "cell_type": "code",
   "execution_count": 14,
   "metadata": {},
   "outputs": [
    {
     "data": {
      "image/png": "[encoded data removed]",
      "text/plain": [
       "<Figure size 640x480 with 2 Axes>"
      ]
     },
     "metadata": {},
     "output_type": "display_data"
    },
    {
     "data": {
      "text/plain": [
       "<Figure size 3000x3000 with 0 Axes>"
      ]
     },
     "metadata": {},
     "output_type": "display_data"
    }
   ],
   "source": [
    "cm = confusion_matrix(pipeline.predict(X_train),y_train)\n",
    "disp = ConfusionMatrixDisplay(confusion_matrix=cm,display_labels=pipeline.classes_)\n",
    "disp.plot()\n",
    "fig = plt.figure(figsize = (30,30))"
   ]
  },
  {
   "cell_type": "code",
   "execution_count": 20,
   "metadata": {},
   "outputs": [
    {
     "name": "stdout",
     "output_type": "stream",
     "text": [
      "Text is: hello how are you today\n",
      "Predicted Language: English\n",
      "Predicted Language label: English\n",
      "English is a known language.\n"
     ]
    }
   ],
   "source": [
    "Text = str(input(\"Enter text: \"))\n",
    "print(\"Text is:\", Text)\n",
    "predicted_language = pipeline.predict([Text])[0]\n",
    "print(\"Predicted Language:\", predicted_language)\n",
    "\n",
    "predicted_language_probabilities = pipeline.predict_proba([Text])[0]\n",
    "predicted_language_index = list(pipeline.classes_).index(predicted_language)\n",
    "predicted_language_label = pipeline.classes_[predicted_language_index]\n",
    "print(\"Predicted Language label:\", predicted_language_label)\n",
    "\n",
    "\n",
    "if predicted_language_label in kd.values:\n",
    "    print(predicted_language_label,\"is a known language.\")\n",
    "\n",
    "elif predicted_language_label in ukd.values:\n",
    "    label = str(input(\"Enter language label:\"))\n",
    "    print(\"Selected label is:\", label)\n",
    "    new_df = pd.DataFrame({\"Text\": [Text], \"Language\": [label]})\n",
    "    data = pd.concat([data, new_df], axis=0, ignore_index=True)\n",
    "    data1 = pd.concat([data1, new_df], axis=0, ignore_index=True)\n",
    "\n",
    "else:\n",
    "    print(\"Enter valid label.\")   "
   ]
  },
  {
   "cell_type": "code",
   "execution_count": 21,
   "metadata": {},
   "outputs": [
    {
     "name": "stdout",
     "output_type": "stream",
     "text": [
      "Text is: مرحبا بالعالم! كيف حالكم اليوم؟\n",
      "Predicted Language: Indonesian\n",
      "Predicted Language label: Indonesian\n",
      "Selected label is: Arabic\n"
     ]
    }
   ],
   "source": [
    "Text = str(input(\"Enter text: \"))\n",
    "print(\"Text is:\", Text)\n",
    "predicted_language = pipeline.predict([Text])[0]\n",
    "print(\"Predicted Language:\", predicted_language)\n",
    "\n",
    "predicted_language_probabilities = pipeline.predict_proba([Text])[0]\n",
    "predicted_language_index = list(pipeline.classes_).index(predicted_language)\n",
    "predicted_language_label = pipeline.classes_[predicted_language_index]\n",
    "print(\"Predicted Language label:\", predicted_language_label)\n",
    "\n",
    "\n",
    "if predicted_language_label in kd.values:\n",
    "    print(predicted_language_label,\"is a known language.\")\n",
    "\n",
    "elif predicted_language_label in ukd.values:\n",
    "    label = str(input(\"Enter language label:\"))\n",
    "    print(\"Selected label is:\", label)\n",
    "    new_df = pd.DataFrame({\"Text\": [Text], \"Language\": [label]})\n",
    "    data = pd.concat([data, new_df], axis=0, ignore_index=True)\n",
    "    data1 = pd.concat([data1, new_df], axis=0, ignore_index=True)\n",
    "\n",
    "else:\n",
    "    print(\"Enter valid label.\")   "
   ]
  },
  {
   "cell_type": "code",
   "execution_count": 22,
   "metadata": {},
   "outputs": [
    {
     "data": {
      "text/html": [
       "<div>\n",
       "<style scoped>\n",
       "    .dataframe tbody tr th:only-of-type {\n",
       "        vertical-align: middle;\n",
       "    }\n",
       "\n",
       "    .dataframe tbody tr th {\n",
       "        vertical-align: top;\n",
       "    }\n",
       "\n",
       "    .dataframe thead th {\n",
       "        text-align: right;\n",
       "    }\n",
       "</style>\n",
       "<table border=\"1\" class=\"dataframe\">\n",
       "  <thead>\n",
       "    <tr style=\"text-align: right;\">\n",
       "      <th></th>\n",
       "      <th>Unnamed: 0.3</th>\n",
       "      <th>Unnamed: 0.2</th>\n",
       "      <th>Unnamed: 0.1</th>\n",
       "      <th>Unnamed: 0</th>\n",
       "      <th>Text</th>\n",
       "      <th>Language</th>\n",
       "    </tr>\n",
       "  </thead>\n",
       "  <tbody>\n",
       "    <tr>\n",
       "      <th>0</th>\n",
       "      <td>0.0</td>\n",
       "      <td>0.0</td>\n",
       "      <td>0.0</td>\n",
       "      <td>0.0</td>\n",
       "      <td>â€œ2020 marked one of the most successful year...</td>\n",
       "      <td>English</td>\n",
       "    </tr>\n",
       "    <tr>\n",
       "      <th>1</th>\n",
       "      <td>1.0</td>\n",
       "      <td>1.0</td>\n",
       "      <td>1.0</td>\n",
       "      <td>1.0</td>\n",
       "      <td>\"27 cases were found in Toronto.\"</td>\n",
       "      <td>English</td>\n",
       "    </tr>\n",
       "    <tr>\n",
       "      <th>2</th>\n",
       "      <td>2.0</td>\n",
       "      <td>2.0</td>\n",
       "      <td>2.0</td>\n",
       "      <td>2.0</td>\n",
       "      <td>$36 million was spent on general &amp; administrat...</td>\n",
       "      <td>English</td>\n",
       "    </tr>\n",
       "    <tr>\n",
       "      <th>3</th>\n",
       "      <td>3.0</td>\n",
       "      <td>3.0</td>\n",
       "      <td>3.0</td>\n",
       "      <td>3.0</td>\n",
       "      <td>Â« 6 stories making headlines this weeâ€¦Updat...</td>\n",
       "      <td>English</td>\n",
       "    </tr>\n",
       "    <tr>\n",
       "      <th>4</th>\n",
       "      <td>4.0</td>\n",
       "      <td>4.0</td>\n",
       "      <td>4.0</td>\n",
       "      <td>4.0</td>\n",
       "      <td>A 10ft great white shark has attacked and kill...</td>\n",
       "      <td>English</td>\n",
       "    </tr>\n",
       "    <tr>\n",
       "      <th>...</th>\n",
       "      <td>...</td>\n",
       "      <td>...</td>\n",
       "      <td>...</td>\n",
       "      <td>...</td>\n",
       "      <td>...</td>\n",
       "      <td>...</td>\n",
       "    </tr>\n",
       "    <tr>\n",
       "      <th>480001</th>\n",
       "      <td>480001.0</td>\n",
       "      <td>480001.0</td>\n",
       "      <td>480001.0</td>\n",
       "      <td>NaN</td>\n",
       "      <td>இன்று மாலை வெள்ளியில் குளிர்காலத்தில் உடைந்து...</td>\n",
       "      <td>Tamil</td>\n",
       "    </tr>\n",
       "    <tr>\n",
       "      <th>480002</th>\n",
       "      <td>480002.0</td>\n",
       "      <td>480002.0</td>\n",
       "      <td>480002.0</td>\n",
       "      <td>NaN</td>\n",
       "      <td>இன்று மாலை வெள்ளியில் குளிர்காலத்தில் உடைந்து...</td>\n",
       "      <td>Tamil</td>\n",
       "    </tr>\n",
       "    <tr>\n",
       "      <th>480003</th>\n",
       "      <td>480003.0</td>\n",
       "      <td>480003.0</td>\n",
       "      <td>NaN</td>\n",
       "      <td>NaN</td>\n",
       "      <td>أنا أحب القراءة والكتابة والتعلم.</td>\n",
       "      <td>Arabic</td>\n",
       "    </tr>\n",
       "    <tr>\n",
       "      <th>480004</th>\n",
       "      <td>480004.0</td>\n",
       "      <td>NaN</td>\n",
       "      <td>NaN</td>\n",
       "      <td>NaN</td>\n",
       "      <td>میرے دل کی دھڑکنوں میں تمہارا نام ہے، تمہارے ب...</td>\n",
       "      <td>Urdu</td>\n",
       "    </tr>\n",
       "    <tr>\n",
       "      <th>480005</th>\n",
       "      <td>NaN</td>\n",
       "      <td>NaN</td>\n",
       "      <td>NaN</td>\n",
       "      <td>NaN</td>\n",
       "      <td>مرحبا بالعالم! كيف حالكم اليوم؟</td>\n",
       "      <td>Arabic</td>\n",
       "    </tr>\n",
       "  </tbody>\n",
       "</table>\n",
       "<p>480006 rows × 6 columns</p>\n",
       "</div>"
      ],
      "text/plain": [
       "        Unnamed: 0.3  Unnamed: 0.2  Unnamed: 0.1  Unnamed: 0  \\\n",
       "0                0.0           0.0           0.0         0.0   \n",
       "1                1.0           1.0           1.0         1.0   \n",
       "2                2.0           2.0           2.0         2.0   \n",
       "3                3.0           3.0           3.0         3.0   \n",
       "4                4.0           4.0           4.0         4.0   \n",
       "...              ...           ...           ...         ...   \n",
       "480001      480001.0      480001.0      480001.0         NaN   \n",
       "480002      480002.0      480002.0      480002.0         NaN   \n",
       "480003      480003.0      480003.0           NaN         NaN   \n",
       "480004      480004.0           NaN           NaN         NaN   \n",
       "480005           NaN           NaN           NaN         NaN   \n",
       "\n",
       "                                                     Text Language  \n",
       "0       â€œ2020 marked one of the most successful year...  English  \n",
       "1                       \"27 cases were found in Toronto.\"  English  \n",
       "2       $36 million was spent on general & administrat...  English  \n",
       "3       Â« 6 stories making headlines this weeâ€¦Updat...  English  \n",
       "4       A 10ft great white shark has attacked and kill...  English  \n",
       "...                                                   ...      ...  \n",
       "480001   இன்று மாலை வெள்ளியில் குளிர்காலத்தில் உடைந்து...    Tamil  \n",
       "480002   இன்று மாலை வெள்ளியில் குளிர்காலத்தில் உடைந்து...    Tamil  \n",
       "480003                  أنا أحب القراءة والكتابة والتعلم.   Arabic  \n",
       "480004  میرے دل کی دھڑکنوں میں تمہارا نام ہے، تمہارے ب...     Urdu  \n",
       "480005                    مرحبا بالعالم! كيف حالكم اليوم؟   Arabic  \n",
       "\n",
       "[480006 rows x 6 columns]"
      ]
     },
     "execution_count": 22,
     "metadata": {},
     "output_type": "execute_result"
    }
   ],
   "source": [
    "data"
   ]
  },
  {
   "cell_type": "code",
   "execution_count": 18,
   "metadata": {},
   "outputs": [],
   "source": [
    "data1"
   ]
  },
  {
   "cell_type": "code",
   "execution_count": 19,
   "metadata": {},
   "outputs": [],
   "source": [
    "# data = data.to_csv(r\"C:\\Users\\Asus\\OneDrive\\Documents\\PE1\\CopyFullDataWithlang.csv\")\n",
    "# data1 = data1.to_csv(r\"C:\\Users\\Asus\\OneDrive\\Documents\\PE1\\Known Languages\\CopyKnownDataWLang.csv\")"
   ]
  }
 ],
 "metadata": {
  "kernelspec": {
   "display_name": "base",
   "language": "python",
   "name": "python3"
  },
  "language_info": {
   "codemirror_mode": {
    "name": "ipython",
    "version": 3
   },
   "file_extension": ".py",
   "mimetype": "text/x-python",
   "name": "python",
   "nbconvert_exporter": "python",
   "pygments_lexer": "ipython3",
   "version": "3.11.5"
  }
 },
 "nbformat": 4,
 "nbformat_minor": 2
}
